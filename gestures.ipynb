{
 "cells": [
  {
   "cell_type": "markdown",
   "id": "b6a561b9",
   "metadata": {},
   "source": [
    "# Data preparation"
   ]
  },
  {
   "cell_type": "markdown",
   "id": "2fb4f3cd",
   "metadata": {},
   "source": [
    "## Librerías"
   ]
  },
  {
   "cell_type": "code",
   "execution_count": 1,
   "id": "26d5fc54",
   "metadata": {},
   "outputs": [],
   "source": [
    "import numpy as np\n",
    "import pandas as pd\n",
    "import matplotlib.pyplot as plt\n",
    "import seaborn as sns\n",
    "from load_gestures import load_gestures\n",
    "from sklearn.metrics import accuracy_score, classification_report, confusion_matrix\n",
    "from sklearn.model_selection import GroupShuffleSplit\n",
    "from sklearn.model_selection import GroupKFold, cross_val_score\n",
    "from sklearn.preprocessing import StandardScaler\n",
    "from sklearn.decomposition import PCA\n",
    "from sklearn.neighbors import KNeighborsClassifier\n",
    "from sklearn.pipeline import Pipeline\n",
    "from sklearn.model_selection import learning_curve"
   ]
  },
  {
   "cell_type": "markdown",
   "id": "887de0f9",
   "metadata": {},
   "source": [
    "## Datos"
   ]
  },
  {
   "cell_type": "markdown",
   "id": "a2bf7f9f",
   "metadata": {},
   "source": [
    "### Cargamos los gestos mediante la función `load_gestures()` escrita por nosotros"
   ]
  },
  {
   "cell_type": "code",
   "execution_count": 2,
   "id": "51b3b954",
   "metadata": {},
   "outputs": [],
   "source": [
    "df = load_gestures(\"files/\")"
   ]
  },
  {
   "cell_type": "markdown",
   "id": "f341dce9",
   "metadata": {},
   "source": [
    "### Vemos dimensiones"
   ]
  },
  {
   "cell_type": "code",
   "execution_count": 3,
   "id": "de3ab5a8",
   "metadata": {},
   "outputs": [
    {
     "data": {
      "text/plain": [
       "(20628, 9)"
      ]
     },
     "execution_count": 3,
     "metadata": {},
     "output_type": "execute_result"
    }
   ],
   "source": [
    "df.shape"
   ]
  },
  {
   "cell_type": "markdown",
   "id": "fce2b5ec",
   "metadata": {},
   "source": [
    "### Checamos duplicados, omitimos el temporal_point igual a cero ya que hay muchos con valores iguales. Queremos solamente gestos completos"
   ]
  },
  {
   "cell_type": "code",
   "execution_count": 4,
   "id": "40cfaa98",
   "metadata": {},
   "outputs": [
    {
     "name": "stdout",
     "output_type": "stream",
     "text": [
      "Filas duplicadas: 14\n",
      "Gestos duplicados: 1\n"
     ]
    }
   ],
   "source": [
    "duplicates = df[df[\"temporal_point\"] != 0]  # Omitimos 0 ya que hay muchos puntos iniciales repetidos\n",
    "\n",
    "duplicates = duplicates[duplicates.duplicated(\n",
    "    subset=[\"temporal_point\", \"x\", \"y\", \"height\", \"width\", \"finger_pressure\"])] # Para que un gesto sea duplicado, deben coincidir todas sus coordenadas\n",
    "\n",
    "unique_gestures = duplicates.groupby([\"user\", \"gesture\"])[\"sample\"].nunique()   # Extraemos el gesto completo\n",
    "\n",
    "print(f\"Filas duplicadas: {len(duplicates)}\")    # Puntos temporales duplicados \n",
    "print(f\"Gestos duplicados: {len(unique_gestures)}\") # Gestos completos duplicados"
   ]
  },
  {
   "cell_type": "markdown",
   "id": "66e53999",
   "metadata": {},
   "source": [
    "### Gestos a eliminar"
   ]
  },
  {
   "cell_type": "code",
   "execution_count": 5,
   "id": "287e306d",
   "metadata": {},
   "outputs": [],
   "source": [
    "duplicates_to_drop = duplicates[[\"user\", \"gesture\", \"sample\"]].drop_duplicates()    # Los gestos a eliminar"
   ]
  },
  {
   "cell_type": "markdown",
   "id": "fc831664",
   "metadata": {},
   "source": [
    "### Merge para eliminar "
   ]
  },
  {
   "cell_type": "code",
   "execution_count": 6,
   "id": "11c57bed",
   "metadata": {},
   "outputs": [],
   "source": [
    "df = df.merge(duplicates_to_drop, on=[\"user\", \"gesture\", \"sample\"], how=\"left\", indicator=True) # Hacemos un merge por la izquierda\n",
    "\n",
    "df = df[df[\"_merge\"] == \"left_only\"].drop(columns=\"_merge\") # Eliminamos la columna \"_merge\" en el df original y nos quedamos con los datos de la izquierda"
   ]
  },
  {
   "cell_type": "markdown",
   "id": "277b80ac",
   "metadata": {},
   "source": [
    "### Dimensiones después de unir"
   ]
  },
  {
   "cell_type": "code",
   "execution_count": 7,
   "id": "d653edd5",
   "metadata": {},
   "outputs": [
    {
     "data": {
      "text/plain": [
       "(20613, 9)"
      ]
     },
     "execution_count": 7,
     "metadata": {},
     "output_type": "execute_result"
    }
   ],
   "source": [
    "df.shape"
   ]
  },
  {
   "cell_type": "markdown",
   "id": "8e0ed944",
   "metadata": {},
   "source": [
    "## Preparación de conjuntos X_train y X_test"
   ]
  },
  {
   "cell_type": "markdown",
   "id": "a87d45b1",
   "metadata": {},
   "source": [
    "### Creamos un array sample_info, que son tuplas con user, gesture y sample que corresponderán con X, para luego ser divididos en X_train y X_test"
   ]
  },
  {
   "cell_type": "code",
   "execution_count": 8,
   "id": "60c864ea",
   "metadata": {},
   "outputs": [],
   "source": [
    "sample_info = [(user, gesture, sample) \n",
    "               for (user, gesture, sample), _ in df.groupby([\"user\",\"gesture\",\"sample\"])]\n",
    "sample_info = np.array(sample_info)"
   ]
  },
  {
   "cell_type": "markdown",
   "id": "5b70a845",
   "metadata": {},
   "source": [
    "### Hacemos un arreglo con todos los gestos, de manera que cada linea corresponda con una muestra de gesto único, poniendo en cada fila los valores \"x\", \"y\", \"height\", \"width\", y \"finger_pressure\""
   ]
  },
  {
   "cell_type": "code",
   "execution_count": 9,
   "id": "695ed856",
   "metadata": {},
   "outputs": [],
   "source": [
    "max_rows = max(len(sample_df) for _, sample_df in df.groupby([\"user\",\"gesture\",\"sample\"]))\n",
    "\n",
    "X = []\n",
    "y = []\n",
    "\n",
    "# Agrupar por muestra\n",
    "for (_, gesture, _), sample_df in df.groupby([\"user\",\"gesture\",\"sample\"]):\n",
    "    feature_vector = sample_df[[\"x\", \"y\", \"height\", \"width\", \"finger_pressure\"]].values.flatten()\n",
    "    pad_length = max_rows*5 - len(feature_vector)  # 5 columnas por fila\n",
    "    if pad_length > 0:\n",
    "        feature_vector = np.pad(feature_vector, (0, pad_length), \"constant\")\n",
    "    X.append(feature_vector)\n",
    "    y.append(gesture)\n",
    "\n",
    "X = np.array(X)\n",
    "y = np.array(y)"
   ]
  },
  {
   "cell_type": "markdown",
   "id": "df95dcd4",
   "metadata": {},
   "source": [
    "### Hacemos un group shuffle split por usuario, de forma en la que solamente unos usuarios queden en el training set y otros queden en el test set, así generalizmaos por usuarios"
   ]
  },
  {
   "cell_type": "code",
   "execution_count": 10,
   "id": "938d1838",
   "metadata": {},
   "outputs": [],
   "source": [
    "users = np.array([user for (user, _, _) in df.groupby([\"user\",\"gesture\",\"sample\"]).groups.keys()])\n",
    "gss = GroupShuffleSplit(n_splits=1, test_size=0.2, random_state=42)\n",
    "train_idx, test_idx = next(gss.split(X, y, groups=users))\n",
    "\n",
    "X_train, X_test = X[train_idx], X[test_idx]\n",
    "y_train, y_test = y[train_idx], y[test_idx]\n",
    "sample_info_train = sample_info[train_idx]\n",
    "sample_info_test = sample_info[test_idx]"
   ]
  },
  {
   "cell_type": "markdown",
   "id": "176d1941",
   "metadata": {},
   "source": [
    "#### Escalamos los datos "
   ]
  },
  {
   "cell_type": "code",
   "execution_count": 11,
   "id": "30d6410f",
   "metadata": {},
   "outputs": [],
   "source": [
    "scaler = StandardScaler()\n",
    "\n",
    "X_train_scaled = scaler.fit_transform(X_train)\n",
    "X_test_scaled = scaler.transform(X_test)"
   ]
  },
  {
   "cell_type": "markdown",
   "id": "ae28ce2b",
   "metadata": {},
   "source": [
    "## PCA"
   ]
  },
  {
   "cell_type": "markdown",
   "id": "ae48b120",
   "metadata": {},
   "source": [
    "### Al tener alta dimensionalidad, tenemos que hacer un PCA para reducción de dimensión, para esto verificamos la varianza explicada por número de componentes"
   ]
  },
  {
   "cell_type": "code",
   "execution_count": 12,
   "id": "4232c6a7",
   "metadata": {},
   "outputs": [
    {
     "data": {
      "image/png": "[encoded data removed]",
      "text/plain": [
       "<Figure size 640x480 with 1 Axes>"
      ]
     },
     "metadata": {},
     "output_type": "display_data"
    }
   ],
   "source": [
    "pca = PCA()\n",
    "pca.fit(X_train_scaled)\n",
    "\n",
    "explained_variance = pca.explained_variance_ratio_.cumsum()\n",
    "\n",
    "plt.plot(range(1, len(explained_variance) + 1), explained_variance)\n",
    "plt.xlabel(\"Número de componentes\")\n",
    "plt.ylabel(\"Varianza explicada acumulada\")\n",
    "plt.title(\"Varianza explicada vs. número de componentes\")\n",
    "plt.grid(True)\n",
    "plt.show()"
   ]
  },
  {
   "cell_type": "markdown",
   "id": "40058085",
   "metadata": {},
   "source": [
    "### Número de componentes para una varianza en los datos de 95%"
   ]
  },
  {
   "cell_type": "code",
   "execution_count": 13,
   "id": "1b949deb",
   "metadata": {},
   "outputs": [
    {
     "name": "stdout",
     "output_type": "stream",
     "text": [
      "Número de componentes para una varianza de 95%: 7\n"
     ]
    }
   ],
   "source": [
    "n_components_95 = np.argmax(explained_variance >= 0.95) + 1\n",
    "print(f\"Número de componentes para una varianza de 95%: {n_components_95}\")"
   ]
  },
  {
   "cell_type": "markdown",
   "id": "da15c325",
   "metadata": {},
   "source": [
    "### PCA con el número de componentes previamente computado"
   ]
  },
  {
   "cell_type": "code",
   "execution_count": 14,
   "id": "1af73c60",
   "metadata": {},
   "outputs": [],
   "source": [
    "pca = PCA(n_components=n_components_95)\n",
    "X_train_reduced = pca.fit_transform(X_train_scaled)\n",
    "X_test_reduced = pca.transform(X_test_scaled)"
   ]
  },
  {
   "cell_type": "markdown",
   "id": "f62c7702",
   "metadata": {},
   "source": [
    "## KNN"
   ]
  },
  {
   "cell_type": "markdown",
   "id": "c989bd87",
   "metadata": {},
   "source": [
    "### KNN con número de vecinos "
   ]
  },
  {
   "cell_type": "code",
   "execution_count": 15,
   "id": "a65e961f",
   "metadata": {},
   "outputs": [],
   "source": [
    "k_values = range(1, 31)  # Probamos k de 1 a 10\n",
    "cv_scores = []\n",
    "\n",
    "for k in k_values:\n",
    "    knn = KNeighborsClassifier(n_neighbors=k)\n",
    "    # Hacemos cross-validation con 5 folds\n",
    "    scores = cross_val_score(knn, X_train_reduced, y_train, cv=5)\n",
    "    cv_scores.append(scores.mean())"
   ]
  },
  {
   "cell_type": "code",
   "execution_count": 16,
   "id": "4ee601e3",
   "metadata": {},
   "outputs": [
    {
     "data": {
      "image/png": "[encoded data removed]",
      "text/plain": [
       "<Figure size 1000x500 with 1 Axes>"
      ]
     },
     "metadata": {},
     "output_type": "display_data"
    }
   ],
   "source": [
    "plt.figure(figsize=(10, 5))\n",
    "plt.plot(k_values, cv_scores, marker=\"o\", linestyle=\"--\")\n",
    "plt.title(\"Numero de vecinos vs. Precisión\")\n",
    "plt.xlabel(\"Valor de k para KNN\")\n",
    "plt.ylabel(\"Precisión\")\n",
    "plt.grid(True)\n",
    "plt.show()"
   ]
  },
  {
   "cell_type": "code",
   "execution_count": 17,
   "id": "5c586a24",
   "metadata": {},
   "outputs": [
    {
     "name": "stdout",
     "output_type": "stream",
     "text": [
      "Mejor k: 1\n"
     ]
    }
   ],
   "source": [
    "best_k = k_values[np.argmax(cv_scores)]\n",
    "print(\"Mejor k:\", best_k)"
   ]
  },
  {
   "cell_type": "markdown",
   "id": "28962455",
   "metadata": {},
   "source": [
    "### Escogemos k = 9, ya que maximiza precisión y minimiza overfitting "
   ]
  },
  {
   "cell_type": "code",
   "execution_count": 18,
   "id": "b4d754e6",
   "metadata": {},
   "outputs": [
    {
     "data": {
      "text/html": [
       "<style>#sk-container-id-1 {\n",
       "  /* Definition of color scheme common for light and dark mode */\n",
       "  --sklearn-color-text: #000;\n",
       "  --sklearn-color-text-muted: #666;\n",
       "  --sklearn-color-line: gray;\n",
       "  /* Definition of color scheme for unfitted estimators */\n",
       "  --sklearn-color-unfitted-level-0: #fff5e6;\n",
       "  --sklearn-color-unfitted-level-1: #f6e4d2;\n",
       "  --sklearn-color-unfitted-level-2: #ffe0b3;\n",
       "  --sklearn-color-unfitted-level-3: chocolate;\n",
       "  /* Definition of color scheme for fitted estimators */\n",
       "  --sklearn-color-fitted-level-0: #f0f8ff;\n",
       "  --sklearn-color-fitted-level-1: #d4ebff;\n",
       "  --sklearn-color-fitted-level-2: #b3dbfd;\n",
       "  --sklearn-color-fitted-level-3: cornflowerblue;\n",
       "\n",
       "  /* Specific color for light theme */\n",
       "  --sklearn-color-text-on-default-background: var(--sg-text-color, var(--theme-code-foreground, var(--jp-content-font-color1, black)));\n",
       "  --sklearn-color-background: var(--sg-background-color, var(--theme-background, var(--jp-layout-color0, white)));\n",
       "  --sklearn-color-border-box: var(--sg-text-color, var(--theme-code-foreground, var(--jp-content-font-color1, black)));\n",
       "  --sklearn-color-icon: #696969;\n",
       "\n",
       "  @media (prefers-color-scheme: dark) {\n",
       "    /* Redefinition of color scheme for dark theme */\n",
       "    --sklearn-color-text-on-default-background: var(--sg-text-color, var(--theme-code-foreground, var(--jp-content-font-color1, white)));\n",
       "    --sklearn-color-background: var(--sg-background-color, var(--theme-background, var(--jp-layout-color0, #111)));\n",
       "    --sklearn-color-border-box: var(--sg-text-color, var(--theme-code-foreground, var(--jp-content-font-color1, white)));\n",
       "    --sklearn-color-icon: #878787;\n",
       "  }\n",
       "}\n",
       "\n",
       "#sk-container-id-1 {\n",
       "  color: var(--sklearn-color-text);\n",
       "}\n",
       "\n",
       "#sk-container-id-1 pre {\n",
       "  padding: 0;\n",
       "}\n",
       "\n",
       "#sk-container-id-1 input.sk-hidden--visually {\n",
       "  border: 0;\n",
       "  clip: rect(1px 1px 1px 1px);\n",
       "  clip: rect(1px, 1px, 1px, 1px);\n",
       "  height: 1px;\n",
       "  margin: -1px;\n",
       "  overflow: hidden;\n",
       "  padding: 0;\n",
       "  position: absolute;\n",
       "  width: 1px;\n",
       "}\n",
       "\n",
       "#sk-container-id-1 div.sk-dashed-wrapped {\n",
       "  border: 1px dashed var(--sklearn-color-line);\n",
       "  margin: 0 0.4em 0.5em 0.4em;\n",
       "  box-sizing: border-box;\n",
       "  padding-bottom: 0.4em;\n",
       "  background-color: var(--sklearn-color-background);\n",
       "}\n",
       "\n",
       "#sk-container-id-1 div.sk-container {\n",
       "  /* jupyter's `normalize.less` sets `[hidden] { display: none; }`\n",
       "     but bootstrap.min.css set `[hidden] { display: none !important; }`\n",
       "     so we also need the `!important` here to be able to override the\n",
       "     default hidden behavior on the sphinx rendered scikit-learn.org.\n",
       "     See: https://github.com/scikit-learn/scikit-learn/issues/21755 */\n",
       "  display: inline-block !important;\n",
       "  position: relative;\n",
       "}\n",
       "\n",
       "#sk-container-id-1 div.sk-text-repr-fallback {\n",
       "  display: none;\n",
       "}\n",
       "\n",
       "div.sk-parallel-item,\n",
       "div.sk-serial,\n",
       "div.sk-item {\n",
       "  /* draw centered vertical line to link estimators */\n",
       "  background-image: linear-gradient(var(--sklearn-color-text-on-default-background), var(--sklearn-color-text-on-default-background));\n",
       "  background-size: 2px 100%;\n",
       "  background-repeat: no-repeat;\n",
       "  background-position: center center;\n",
       "}\n",
       "\n",
       "/* Parallel-specific style estimator block */\n",
       "\n",
       "#sk-container-id-1 div.sk-parallel-item::after {\n",
       "  content: \"\";\n",
       "  width: 100%;\n",
       "  border-bottom: 2px solid var(--sklearn-color-text-on-default-background);\n",
       "  flex-grow: 1;\n",
       "}\n",
       "\n",
       "#sk-container-id-1 div.sk-parallel {\n",
       "  display: flex;\n",
       "  align-items: stretch;\n",
       "  justify-content: center;\n",
       "  background-color: var(--sklearn-color-background);\n",
       "  position: relative;\n",
       "}\n",
       "\n",
       "#sk-container-id-1 div.sk-parallel-item {\n",
       "  display: flex;\n",
       "  flex-direction: column;\n",
       "}\n",
       "\n",
       "#sk-container-id-1 div.sk-parallel-item:first-child::after {\n",
       "  align-self: flex-end;\n",
       "  width: 50%;\n",
       "}\n",
       "\n",
       "#sk-container-id-1 div.sk-parallel-item:last-child::after {\n",
       "  align-self: flex-start;\n",
       "  width: 50%;\n",
       "}\n",
       "\n",
       "#sk-container-id-1 div.sk-parallel-item:only-child::after {\n",
       "  width: 0;\n",
       "}\n",
       "\n",
       "/* Serial-specific style estimator block */\n",
       "\n",
       "#sk-container-id-1 div.sk-serial {\n",
       "  display: flex;\n",
       "  flex-direction: column;\n",
       "  align-items: center;\n",
       "  background-color: var(--sklearn-color-background);\n",
       "  padding-right: 1em;\n",
       "  padding-left: 1em;\n",
       "}\n",
       "\n",
       "\n",
       "/* Toggleable style: style used for estimator/Pipeline/ColumnTransformer box that is\n",
       "clickable and can be expanded/collapsed.\n",
       "- Pipeline and ColumnTransformer use this feature and define the default style\n",
       "- Estimators will overwrite some part of the style using the `sk-estimator` class\n",
       "*/\n",
       "\n",
       "/* Pipeline and ColumnTransformer style (default) */\n",
       "\n",
       "#sk-container-id-1 div.sk-toggleable {\n",
       "  /* Default theme specific background. It is overwritten whether we have a\n",
       "  specific estimator or a Pipeline/ColumnTransformer */\n",
       "  background-color: var(--sklearn-color-background);\n",
       "}\n",
       "\n",
       "/* Toggleable label */\n",
       "#sk-container-id-1 label.sk-toggleable__label {\n",
       "  cursor: pointer;\n",
       "  display: flex;\n",
       "  width: 100%;\n",
       "  margin-bottom: 0;\n",
       "  padding: 0.5em;\n",
       "  box-sizing: border-box;\n",
       "  text-align: center;\n",
       "  align-items: start;\n",
       "  justify-content: space-between;\n",
       "  gap: 0.5em;\n",
       "}\n",
       "\n",
       "#sk-container-id-1 label.sk-toggleable__label .caption {\n",
       "  font-size: 0.6rem;\n",
       "  font-weight: lighter;\n",
       "  color: var(--sklearn-color-text-muted);\n",
       "}\n",
       "\n",
       "#sk-container-id-1 label.sk-toggleable__label-arrow:before {\n",
       "  /* Arrow on the left of the label */\n",
       "  content: \"▸\";\n",
       "  float: left;\n",
       "  margin-right: 0.25em;\n",
       "  color: var(--sklearn-color-icon);\n",
       "}\n",
       "\n",
       "#sk-container-id-1 label.sk-toggleable__label-arrow:hover:before {\n",
       "  color: var(--sklearn-color-text);\n",
       "}\n",
       "\n",
       "/* Toggleable content - dropdown */\n",
       "\n",
       "#sk-container-id-1 div.sk-toggleable__content {\n",
       "  display: none;\n",
       "  text-align: left;\n",
       "  /* unfitted */\n",
       "  background-color: var(--sklearn-color-unfitted-level-0);\n",
       "}\n",
       "\n",
       "#sk-container-id-1 div.sk-toggleable__content.fitted {\n",
       "  /* fitted */\n",
       "  background-color: var(--sklearn-color-fitted-level-0);\n",
       "}\n",
       "\n",
       "#sk-container-id-1 div.sk-toggleable__content pre {\n",
       "  margin: 0.2em;\n",
       "  border-radius: 0.25em;\n",
       "  color: var(--sklearn-color-text);\n",
       "  /* unfitted */\n",
       "  background-color: var(--sklearn-color-unfitted-level-0);\n",
       "}\n",
       "\n",
       "#sk-container-id-1 div.sk-toggleable__content.fitted pre {\n",
       "  /* unfitted */\n",
       "  background-color: var(--sklearn-color-fitted-level-0);\n",
       "}\n",
       "\n",
       "#sk-container-id-1 input.sk-toggleable__control:checked~div.sk-toggleable__content {\n",
       "  /* Expand drop-down */\n",
       "  display: block;\n",
       "  width: 100%;\n",
       "  overflow: visible;\n",
       "}\n",
       "\n",
       "#sk-container-id-1 input.sk-toggleable__control:checked~label.sk-toggleable__label-arrow:before {\n",
       "  content: \"▾\";\n",
       "}\n",
       "\n",
       "/* Pipeline/ColumnTransformer-specific style */\n",
       "\n",
       "#sk-container-id-1 div.sk-label input.sk-toggleable__control:checked~label.sk-toggleable__label {\n",
       "  color: var(--sklearn-color-text);\n",
       "  background-color: var(--sklearn-color-unfitted-level-2);\n",
       "}\n",
       "\n",
       "#sk-container-id-1 div.sk-label.fitted input.sk-toggleable__control:checked~label.sk-toggleable__label {\n",
       "  background-color: var(--sklearn-color-fitted-level-2);\n",
       "}\n",
       "\n",
       "/* Estimator-specific style */\n",
       "\n",
       "/* Colorize estimator box */\n",
       "#sk-container-id-1 div.sk-estimator input.sk-toggleable__control:checked~label.sk-toggleable__label {\n",
       "  /* unfitted */\n",
       "  background-color: var(--sklearn-color-unfitted-level-2);\n",
       "}\n",
       "\n",
       "#sk-container-id-1 div.sk-estimator.fitted input.sk-toggleable__control:checked~label.sk-toggleable__label {\n",
       "  /* fitted */\n",
       "  background-color: var(--sklearn-color-fitted-level-2);\n",
       "}\n",
       "\n",
       "#sk-container-id-1 div.sk-label label.sk-toggleable__label,\n",
       "#sk-container-id-1 div.sk-label label {\n",
       "  /* The background is the default theme color */\n",
       "  color: var(--sklearn-color-text-on-default-background);\n",
       "}\n",
       "\n",
       "/* On hover, darken the color of the background */\n",
       "#sk-container-id-1 div.sk-label:hover label.sk-toggleable__label {\n",
       "  color: var(--sklearn-color-text);\n",
       "  background-color: var(--sklearn-color-unfitted-level-2);\n",
       "}\n",
       "\n",
       "/* Label box, darken color on hover, fitted */\n",
       "#sk-container-id-1 div.sk-label.fitted:hover label.sk-toggleable__label.fitted {\n",
       "  color: var(--sklearn-color-text);\n",
       "  background-color: var(--sklearn-color-fitted-level-2);\n",
       "}\n",
       "\n",
       "/* Estimator label */\n",
       "\n",
       "#sk-container-id-1 div.sk-label label {\n",
       "  font-family: monospace;\n",
       "  font-weight: bold;\n",
       "  display: inline-block;\n",
       "  line-height: 1.2em;\n",
       "}\n",
       "\n",
       "#sk-container-id-1 div.sk-label-container {\n",
       "  text-align: center;\n",
       "}\n",
       "\n",
       "/* Estimator-specific */\n",
       "#sk-container-id-1 div.sk-estimator {\n",
       "  font-family: monospace;\n",
       "  border: 1px dotted var(--sklearn-color-border-box);\n",
       "  border-radius: 0.25em;\n",
       "  box-sizing: border-box;\n",
       "  margin-bottom: 0.5em;\n",
       "  /* unfitted */\n",
       "  background-color: var(--sklearn-color-unfitted-level-0);\n",
       "}\n",
       "\n",
       "#sk-container-id-1 div.sk-estimator.fitted {\n",
       "  /* fitted */\n",
       "  background-color: var(--sklearn-color-fitted-level-0);\n",
       "}\n",
       "\n",
       "/* on hover */\n",
       "#sk-container-id-1 div.sk-estimator:hover {\n",
       "  /* unfitted */\n",
       "  background-color: var(--sklearn-color-unfitted-level-2);\n",
       "}\n",
       "\n",
       "#sk-container-id-1 div.sk-estimator.fitted:hover {\n",
       "  /* fitted */\n",
       "  background-color: var(--sklearn-color-fitted-level-2);\n",
       "}\n",
       "\n",
       "/* Specification for estimator info (e.g. \"i\" and \"?\") */\n",
       "\n",
       "/* Common style for \"i\" and \"?\" */\n",
       "\n",
       ".sk-estimator-doc-link,\n",
       "a:link.sk-estimator-doc-link,\n",
       "a:visited.sk-estimator-doc-link {\n",
       "  float: right;\n",
       "  font-size: smaller;\n",
       "  line-height: 1em;\n",
       "  font-family: monospace;\n",
       "  background-color: var(--sklearn-color-background);\n",
       "  border-radius: 1em;\n",
       "  height: 1em;\n",
       "  width: 1em;\n",
       "  text-decoration: none !important;\n",
       "  margin-left: 0.5em;\n",
       "  text-align: center;\n",
       "  /* unfitted */\n",
       "  border: var(--sklearn-color-unfitted-level-1) 1pt solid;\n",
       "  color: var(--sklearn-color-unfitted-level-1);\n",
       "}\n",
       "\n",
       ".sk-estimator-doc-link.fitted,\n",
       "a:link.sk-estimator-doc-link.fitted,\n",
       "a:visited.sk-estimator-doc-link.fitted {\n",
       "  /* fitted */\n",
       "  border: var(--sklearn-color-fitted-level-1) 1pt solid;\n",
       "  color: var(--sklearn-color-fitted-level-1);\n",
       "}\n",
       "\n",
       "/* On hover */\n",
       "div.sk-estimator:hover .sk-estimator-doc-link:hover,\n",
       ".sk-estimator-doc-link:hover,\n",
       "div.sk-label-container:hover .sk-estimator-doc-link:hover,\n",
       ".sk-estimator-doc-link:hover {\n",
       "  /* unfitted */\n",
       "  background-color: var(--sklearn-color-unfitted-level-3);\n",
       "  color: var(--sklearn-color-background);\n",
       "  text-decoration: none;\n",
       "}\n",
       "\n",
       "div.sk-estimator.fitted:hover .sk-estimator-doc-link.fitted:hover,\n",
       ".sk-estimator-doc-link.fitted:hover,\n",
       "div.sk-label-container:hover .sk-estimator-doc-link.fitted:hover,\n",
       ".sk-estimator-doc-link.fitted:hover {\n",
       "  /* fitted */\n",
       "  background-color: var(--sklearn-color-fitted-level-3);\n",
       "  color: var(--sklearn-color-background);\n",
       "  text-decoration: none;\n",
       "}\n",
       "\n",
       "/* Span, style for the box shown on hovering the info icon */\n",
       ".sk-estimator-doc-link span {\n",
       "  display: none;\n",
       "  z-index: 9999;\n",
       "  position: relative;\n",
       "  font-weight: normal;\n",
       "  right: .2ex;\n",
       "  padding: .5ex;\n",
       "  margin: .5ex;\n",
       "  width: min-content;\n",
       "  min-width: 20ex;\n",
       "  max-width: 50ex;\n",
       "  color: var(--sklearn-color-text);\n",
       "  box-shadow: 2pt 2pt 4pt #999;\n",
       "  /* unfitted */\n",
       "  background: var(--sklearn-color-unfitted-level-0);\n",
       "  border: .5pt solid var(--sklearn-color-unfitted-level-3);\n",
       "}\n",
       "\n",
       ".sk-estimator-doc-link.fitted span {\n",
       "  /* fitted */\n",
       "  background: var(--sklearn-color-fitted-level-0);\n",
       "  border: var(--sklearn-color-fitted-level-3);\n",
       "}\n",
       "\n",
       ".sk-estimator-doc-link:hover span {\n",
       "  display: block;\n",
       "}\n",
       "\n",
       "/* \"?\"-specific style due to the `<a>` HTML tag */\n",
       "\n",
       "#sk-container-id-1 a.estimator_doc_link {\n",
       "  float: right;\n",
       "  font-size: 1rem;\n",
       "  line-height: 1em;\n",
       "  font-family: monospace;\n",
       "  background-color: var(--sklearn-color-background);\n",
       "  border-radius: 1rem;\n",
       "  height: 1rem;\n",
       "  width: 1rem;\n",
       "  text-decoration: none;\n",
       "  /* unfitted */\n",
       "  color: var(--sklearn-color-unfitted-level-1);\n",
       "  border: var(--sklearn-color-unfitted-level-1) 1pt solid;\n",
       "}\n",
       "\n",
       "#sk-container-id-1 a.estimator_doc_link.fitted {\n",
       "  /* fitted */\n",
       "  border: var(--sklearn-color-fitted-level-1) 1pt solid;\n",
       "  color: var(--sklearn-color-fitted-level-1);\n",
       "}\n",
       "\n",
       "/* On hover */\n",
       "#sk-container-id-1 a.estimator_doc_link:hover {\n",
       "  /* unfitted */\n",
       "  background-color: var(--sklearn-color-unfitted-level-3);\n",
       "  color: var(--sklearn-color-background);\n",
       "  text-decoration: none;\n",
       "}\n",
       "\n",
       "#sk-container-id-1 a.estimator_doc_link.fitted:hover {\n",
       "  /* fitted */\n",
       "  background-color: var(--sklearn-color-fitted-level-3);\n",
       "}\n",
       "\n",
       ".estimator-table summary {\n",
       "    padding: .5rem;\n",
       "    font-family: monospace;\n",
       "    cursor: pointer;\n",
       "}\n",
       "\n",
       ".estimator-table details[open] {\n",
       "    padding-left: 0.1rem;\n",
       "    padding-right: 0.1rem;\n",
       "    padding-bottom: 0.3rem;\n",
       "}\n",
       "\n",
       ".estimator-table .parameters-table {\n",
       "    margin-left: auto !important;\n",
       "    margin-right: auto !important;\n",
       "}\n",
       "\n",
       ".estimator-table .parameters-table tr:nth-child(odd) {\n",
       "    background-color: #fff;\n",
       "}\n",
       "\n",
       ".estimator-table .parameters-table tr:nth-child(even) {\n",
       "    background-color: #f6f6f6;\n",
       "}\n",
       "\n",
       ".estimator-table .parameters-table tr:hover {\n",
       "    background-color: #e0e0e0;\n",
       "}\n",
       "\n",
       ".estimator-table table td {\n",
       "    border: 1px solid rgba(106, 105, 104, 0.232);\n",
       "}\n",
       "\n",
       ".user-set td {\n",
       "    color:rgb(255, 94, 0);\n",
       "    text-align: left;\n",
       "}\n",
       "\n",
       ".user-set td.value pre {\n",
       "    color:rgb(255, 94, 0) !important;\n",
       "    background-color: transparent !important;\n",
       "}\n",
       "\n",
       ".default td {\n",
       "    color: black;\n",
       "    text-align: left;\n",
       "}\n",
       "\n",
       ".user-set td i,\n",
       ".default td i {\n",
       "    color: black;\n",
       "}\n",
       "\n",
       ".copy-paste-icon {\n",
       "    background-image: url(data:image/svg+xml;base64,PHN2ZyB4bWxucz0iaHR0cDovL3d3dy53My5vcmcvMjAwMC9zdmciIHZpZXdCb3g9IjAgMCA0NDggNTEyIj48IS0tIUZvbnQgQXdlc29tZSBGcmVlIDYuNy4yIGJ5IEBmb250YXdlc29tZSAtIGh0dHBzOi8vZm9udGF3ZXNvbWUuY29tIExpY2Vuc2UgLSBodHRwczovL2ZvbnRhd2Vzb21lLmNvbS9saWNlbnNlL2ZyZWUgQ29weXJpZ2h0IDIwMjUgRm9udGljb25zLCBJbmMuLS0+PHBhdGggZD0iTTIwOCAwTDMzMi4xIDBjMTIuNyAwIDI0LjkgNS4xIDMzLjkgMTQuMWw2Ny45IDY3LjljOSA5IDE0LjEgMjEuMiAxNC4xIDMzLjlMNDQ4IDMzNmMwIDI2LjUtMjEuNSA0OC00OCA0OGwtMTkyIDBjLTI2LjUgMC00OC0yMS41LTQ4LTQ4bDAtMjg4YzAtMjYuNSAyMS41LTQ4IDQ4LTQ4ek00OCAxMjhsODAgMCAwIDY0LTY0IDAgMCAyNTYgMTkyIDAgMC0zMiA2NCAwIDAgNDhjMCAyNi41LTIxLjUgNDgtNDggNDhMNDggNTEyYy0yNi41IDAtNDgtMjEuNS00OC00OEwwIDE3NmMwLTI2LjUgMjEuNS00OCA0OC00OHoiLz48L3N2Zz4=);\n",
       "    background-repeat: no-repeat;\n",
       "    background-size: 14px 14px;\n",
       "    background-position: 0;\n",
       "    display: inline-block;\n",
       "    width: 14px;\n",
       "    height: 14px;\n",
       "    cursor: pointer;\n",
       "}\n",
       "</style><body><div id=\"sk-container-id-1\" class=\"sk-top-container\"><div class=\"sk-text-repr-fallback\"><pre>KNeighborsClassifier(n_neighbors=9)</pre><b>In a Jupyter environment, please rerun this cell to show the HTML representation or trust the notebook. <br />On GitHub, the HTML representation is unable to render, please try loading this page with nbviewer.org.</b></div><div class=\"sk-container\" hidden><div class=\"sk-item\"><div class=\"sk-estimator fitted sk-toggleable\"><input class=\"sk-toggleable__control sk-hidden--visually\" id=\"sk-estimator-id-1\" type=\"checkbox\" checked><label for=\"sk-estimator-id-1\" class=\"sk-toggleable__label fitted sk-toggleable__label-arrow\"><div><div>KNeighborsClassifier</div></div><div><a class=\"sk-estimator-doc-link fitted\" rel=\"noreferrer\" target=\"_blank\" href=\"https://scikit-learn.org/1.7/modules/generated/sklearn.neighbors.KNeighborsClassifier.html\">?<span>Documentation for KNeighborsClassifier</span></a><span class=\"sk-estimator-doc-link fitted\">i<span>Fitted</span></span></div></label><div class=\"sk-toggleable__content fitted\" data-param-prefix=\"\">\n",
       "        <div class=\"estimator-table\">\n",
       "            <details>\n",
       "                <summary>Parameters</summary>\n",
       "                <table class=\"parameters-table\">\n",
       "                  <tbody>\n",
       "                    \n",
       "        <tr class=\"user-set\">\n",
       "            <td><i class=\"copy-paste-icon\"\n",
       "                 onclick=\"copyToClipboard('n_neighbors',\n",
       "                          this.parentElement.nextElementSibling)\"\n",
       "            ></i></td>\n",
       "            <td class=\"param\">n_neighbors&nbsp;</td>\n",
       "            <td class=\"value\">9</td>\n",
       "        </tr>\n",
       "    \n",
       "\n",
       "        <tr class=\"default\">\n",
       "            <td><i class=\"copy-paste-icon\"\n",
       "                 onclick=\"copyToClipboard('weights',\n",
       "                          this.parentElement.nextElementSibling)\"\n",
       "            ></i></td>\n",
       "            <td class=\"param\">weights&nbsp;</td>\n",
       "            <td class=\"value\">&#x27;uniform&#x27;</td>\n",
       "        </tr>\n",
       "    \n",
       "\n",
       "        <tr class=\"default\">\n",
       "            <td><i class=\"copy-paste-icon\"\n",
       "                 onclick=\"copyToClipboard('algorithm',\n",
       "                          this.parentElement.nextElementSibling)\"\n",
       "            ></i></td>\n",
       "            <td class=\"param\">algorithm&nbsp;</td>\n",
       "            <td class=\"value\">&#x27;auto&#x27;</td>\n",
       "        </tr>\n",
       "    \n",
       "\n",
       "        <tr class=\"default\">\n",
       "            <td><i class=\"copy-paste-icon\"\n",
       "                 onclick=\"copyToClipboard('leaf_size',\n",
       "                          this.parentElement.nextElementSibling)\"\n",
       "            ></i></td>\n",
       "            <td class=\"param\">leaf_size&nbsp;</td>\n",
       "            <td class=\"value\">30</td>\n",
       "        </tr>\n",
       "    \n",
       "\n",
       "        <tr class=\"default\">\n",
       "            <td><i class=\"copy-paste-icon\"\n",
       "                 onclick=\"copyToClipboard('p',\n",
       "                          this.parentElement.nextElementSibling)\"\n",
       "            ></i></td>\n",
       "            <td class=\"param\">p&nbsp;</td>\n",
       "            <td class=\"value\">2</td>\n",
       "        </tr>\n",
       "    \n",
       "\n",
       "        <tr class=\"default\">\n",
       "            <td><i class=\"copy-paste-icon\"\n",
       "                 onclick=\"copyToClipboard('metric',\n",
       "                          this.parentElement.nextElementSibling)\"\n",
       "            ></i></td>\n",
       "            <td class=\"param\">metric&nbsp;</td>\n",
       "            <td class=\"value\">&#x27;minkowski&#x27;</td>\n",
       "        </tr>\n",
       "    \n",
       "\n",
       "        <tr class=\"default\">\n",
       "            <td><i class=\"copy-paste-icon\"\n",
       "                 onclick=\"copyToClipboard('metric_params',\n",
       "                          this.parentElement.nextElementSibling)\"\n",
       "            ></i></td>\n",
       "            <td class=\"param\">metric_params&nbsp;</td>\n",
       "            <td class=\"value\">None</td>\n",
       "        </tr>\n",
       "    \n",
       "\n",
       "        <tr class=\"default\">\n",
       "            <td><i class=\"copy-paste-icon\"\n",
       "                 onclick=\"copyToClipboard('n_jobs',\n",
       "                          this.parentElement.nextElementSibling)\"\n",
       "            ></i></td>\n",
       "            <td class=\"param\">n_jobs&nbsp;</td>\n",
       "            <td class=\"value\">None</td>\n",
       "        </tr>\n",
       "    \n",
       "                  </tbody>\n",
       "                </table>\n",
       "            </details>\n",
       "        </div>\n",
       "    </div></div></div></div></div><script>function copyToClipboard(text, element) {\n",
       "    // Get the parameter prefix from the closest toggleable content\n",
       "    const toggleableContent = element.closest('.sk-toggleable__content');\n",
       "    const paramPrefix = toggleableContent ? toggleableContent.dataset.paramPrefix : '';\n",
       "    const fullParamName = paramPrefix ? `${paramPrefix}${text}` : text;\n",
       "\n",
       "    const originalStyle = element.style;\n",
       "    const computedStyle = window.getComputedStyle(element);\n",
       "    const originalWidth = computedStyle.width;\n",
       "    const originalHTML = element.innerHTML.replace('Copied!', '');\n",
       "\n",
       "    navigator.clipboard.writeText(fullParamName)\n",
       "        .then(() => {\n",
       "            element.style.width = originalWidth;\n",
       "            element.style.color = 'green';\n",
       "            element.innerHTML = \"Copied!\";\n",
       "\n",
       "            setTimeout(() => {\n",
       "                element.innerHTML = originalHTML;\n",
       "                element.style = originalStyle;\n",
       "            }, 2000);\n",
       "        })\n",
       "        .catch(err => {\n",
       "            console.error('Failed to copy:', err);\n",
       "            element.style.color = 'red';\n",
       "            element.innerHTML = \"Failed!\";\n",
       "            setTimeout(() => {\n",
       "                element.innerHTML = originalHTML;\n",
       "                element.style = originalStyle;\n",
       "            }, 2000);\n",
       "        });\n",
       "    return false;\n",
       "}\n",
       "\n",
       "document.querySelectorAll('.fa-regular.fa-copy').forEach(function(element) {\n",
       "    const toggleableContent = element.closest('.sk-toggleable__content');\n",
       "    const paramPrefix = toggleableContent ? toggleableContent.dataset.paramPrefix : '';\n",
       "    const paramName = element.parentElement.nextElementSibling.textContent.trim();\n",
       "    const fullParamName = paramPrefix ? `${paramPrefix}${paramName}` : paramName;\n",
       "\n",
       "    element.setAttribute('title', fullParamName);\n",
       "});\n",
       "</script></body>"
      ],
      "text/plain": [
       "KNeighborsClassifier(n_neighbors=9)"
      ]
     },
     "execution_count": 18,
     "metadata": {},
     "output_type": "execute_result"
    }
   ],
   "source": [
    "best_k = 9\n",
    "\n",
    "knn = KNeighborsClassifier(n_neighbors=best_k)\n",
    "knn.fit(X_train_reduced, y_train)"
   ]
  },
  {
   "cell_type": "markdown",
   "id": "5c4af0ae",
   "metadata": {},
   "source": [
    "### Precisión y reporte de clasificación"
   ]
  },
  {
   "cell_type": "code",
   "execution_count": 19,
   "id": "87c388d8",
   "metadata": {},
   "outputs": [
    {
     "name": "stdout",
     "output_type": "stream",
     "text": [
      "Precisión: 0.9369158878504673\n",
      "              precision    recall  f1-score   support\n",
      "\n",
      "  gesture_01       1.00      0.96      0.98        57\n",
      "  gesture_02       0.95      0.96      0.95        54\n",
      "  gesture_03       0.93      0.93      0.93        54\n",
      "  gesture_04       0.95      0.90      0.92        60\n",
      "  gesture_05       0.95      0.95      0.95        56\n",
      "  gesture_06       0.97      0.84      0.90        38\n",
      "  gesture_07       0.94      0.94      0.94        54\n",
      "  gesture_08       0.84      0.98      0.91        55\n",
      "\n",
      "    accuracy                           0.94       428\n",
      "   macro avg       0.94      0.93      0.94       428\n",
      "weighted avg       0.94      0.94      0.94       428\n",
      "\n"
     ]
    }
   ],
   "source": [
    "y_pred = knn.predict(X_test_reduced)\n",
    "print(\"Precisión:\", accuracy_score(y_test, y_pred))\n",
    "print(classification_report(y_test, y_pred))"
   ]
  },
  {
   "cell_type": "markdown",
   "id": "57725ba6",
   "metadata": {},
   "source": [
    "### Matriz de confusión"
   ]
  },
  {
   "cell_type": "code",
   "execution_count": 20,
   "id": "a854ce60",
   "metadata": {},
   "outputs": [
    {
     "data": {
      "image/png": "[encoded data removed]",
      "text/plain": [
       "<Figure size 640x480 with 2 Axes>"
      ]
     },
     "metadata": {},
     "output_type": "display_data"
    }
   ],
   "source": [
    "y_pred = knn.predict(X_test_reduced)\n",
    "cm = confusion_matrix(y_test, y_pred)\n",
    "target_names = [f\"Gesto {i}\" for i in range(1, len(np.unique(y_test)) + 1)]\n",
    "sns.heatmap(cm, annot=True, fmt=\"d\", cmap=\"Blues\", xticklabels=target_names, yticklabels=target_names)\n",
    "plt.xlabel(\"Prediccion\")\n",
    "plt.ylabel(\"Verdadero\")\n",
    "plt.show()"
   ]
  },
  {
   "cell_type": "markdown",
   "id": "ed2d05b3",
   "metadata": {},
   "source": [
    "### Cross-validation"
   ]
  },
  {
   "cell_type": "code",
   "execution_count": 21,
   "id": "4a685778",
   "metadata": {},
   "outputs": [],
   "source": [
    "groups = users"
   ]
  },
  {
   "cell_type": "markdown",
   "id": "c724201c",
   "metadata": {},
   "source": [
    "### Pipeline de los procesos para Cross-validation"
   ]
  },
  {
   "cell_type": "code",
   "execution_count": 22,
   "id": "7c4cf744",
   "metadata": {},
   "outputs": [],
   "source": [
    "pipeline = Pipeline([\n",
    "    (\"scaler\", StandardScaler()),\n",
    "    (\"pca\", PCA(n_components=n_components_95)),\n",
    "    (\"knn\", KNeighborsClassifier(n_neighbors=best_k))\n",
    "])"
   ]
  },
  {
   "cell_type": "markdown",
   "id": "7767c5c2",
   "metadata": {},
   "source": [
    "### Iteramos los usuarios cinco veces sobre los conjuntos X, y"
   ]
  },
  {
   "cell_type": "code",
   "execution_count": 23,
   "id": "c1515ea1",
   "metadata": {},
   "outputs": [],
   "source": [
    "gkf = GroupKFold(n_splits=5)\n",
    "scores = cross_val_score(pipeline, X, y, cv=gkf, groups=groups)"
   ]
  },
  {
   "cell_type": "markdown",
   "id": "c17798c7",
   "metadata": {},
   "source": [
    "### Precisión con cross validation"
   ]
  },
  {
   "cell_type": "code",
   "execution_count": 24,
   "id": "5f650054",
   "metadata": {},
   "outputs": [
    {
     "name": "stdout",
     "output_type": "stream",
     "text": [
      "Precisión con cross-validation: [0.95128205 0.98588235 0.56316916 0.83830846 0.9425    ]\n",
      "Precisión promedio: 0.8562284053633794\n"
     ]
    }
   ],
   "source": [
    "print(\"Precisión con cross-validation:\", scores)\n",
    "print(\"Precisión promedio:\", scores.mean())"
   ]
  },
  {
   "cell_type": "markdown",
   "id": "b529b4b2",
   "metadata": {},
   "source": [
    "### Verificamos overfitting"
   ]
  },
  {
   "cell_type": "code",
   "execution_count": 25,
   "id": "1da3ee13",
   "metadata": {},
   "outputs": [
    {
     "data": {
      "image/png": "[encoded data removed]",
      "text/plain": [
       "<Figure size 640x480 with 1 Axes>"
      ]
     },
     "metadata": {},
     "output_type": "display_data"
    }
   ],
   "source": [
    "train_sizes, train_scores, test_scores = learning_curve(\n",
    "    knn, X_train_reduced, y_train, cv=5, scoring='accuracy', n_jobs=-1\n",
    ")\n",
    "\n",
    "train_mean = train_scores.mean(axis=1)\n",
    "test_mean = test_scores.mean(axis=1)\n",
    "\n",
    "plt.plot(train_sizes, train_mean, label=\"Precisión entrenamiento\")\n",
    "plt.plot(train_sizes, test_mean, label=\"Precisión validación\")\n",
    "plt.xlabel(\"Tamaño de entrenamiento\")\n",
    "plt.ylabel(\"Precisión\")\n",
    "plt.legend()\n",
    "plt.grid(True)\n",
    "plt.show()"
   ]
  },
  {
   "cell_type": "markdown",
   "id": "34da11b8",
   "metadata": {},
   "source": [
    "### Extracción del training y test set"
   ]
  },
  {
   "cell_type": "code",
   "execution_count": 26,
   "id": "6e2469ad",
   "metadata": {},
   "outputs": [
    {
     "name": "stdout",
     "output_type": "stream",
     "text": [
      "Usuarios en el training set: ['user_01' 'user_03' 'user_04' 'user_05' 'user_06' 'user_07' 'user_08'\n",
      " 'user_10']\n",
      "Usuarios en el test set: ['user_02' 'user_09']\n"
     ]
    }
   ],
   "source": [
    "unique_users_train = np.unique(sample_info_train[:, 0])\n",
    "unique_users_test = np.unique(sample_info_test[:, 0])\n",
    "\n",
    "print(\"Usuarios en el training set:\", unique_users_train)\n",
    "print(\"Usuarios en el test set:\", unique_users_test)"
   ]
  },
  {
   "cell_type": "markdown",
   "id": "bdc0f9c7",
   "metadata": {},
   "source": [
    "### Training set"
   ]
  },
  {
   "cell_type": "code",
   "execution_count": 27,
   "id": "c0474198",
   "metadata": {},
   "outputs": [],
   "source": [
    "# columns_features = [f\"f{i}\" for i in range(X_train.shape[1])]\n",
    "# df_train = pd.DataFrame(X_train, columns=columns_features)\n",
    "# df_train[\"gesture\"] = y_train\n",
    "\n",
    "# # Incluir user y sample\n",
    "# if \"sample_info_train\" in locals():\n",
    "#     users, gestures, samples = zip(*sample_info_train)\n",
    "#     df_train[\"user\"] = users\n",
    "#     df_train[\"sample\"] = samples\n",
    "\n",
    "# # Guardar CSV\n",
    "# df_train.to_csv(\"training_set.csv\", index=False)\n",
    "# print(\"Training set guardado en training_set.csv\")"
   ]
  },
  {
   "cell_type": "markdown",
   "id": "7943fe4e",
   "metadata": {},
   "source": [
    "### Test set"
   ]
  },
  {
   "cell_type": "code",
   "execution_count": 28,
   "id": "5ebe39cf",
   "metadata": {},
   "outputs": [],
   "source": [
    "# columns_features = [f\"f{i}\" for i in range(X_test.shape[1])]\n",
    "# df_test = pd.DataFrame(X_test, columns=columns_features)\n",
    "# df_test[\"gesture\"] = y_test\n",
    "\n",
    "# users_test, gestures_test, samples_test = zip(*sample_info_test)\n",
    "# df_test[\"user\"] = users_test\n",
    "# df_test[\"sample\"] = samples_test\n",
    "\n",
    "# df_test.to_csv(\"test_set.csv\", index=False)\n",
    "# print(\"Test set guardado en test_set.csv\")"
   ]
  },
  {
   "cell_type": "markdown",
   "id": "5f815160",
   "metadata": {},
   "source": [
    "## Misc"
   ]
  },
  {
   "cell_type": "code",
   "execution_count": 29,
   "id": "98444441",
   "metadata": {},
   "outputs": [
    {
     "name": "stdout",
     "output_type": "stream",
     "text": [
      "       user     gesture  num_samples\n",
      "0   user_01  gesture_01          153\n",
      "1   user_01  gesture_02          209\n",
      "2   user_01  gesture_03          171\n",
      "3   user_01  gesture_04          210\n",
      "4   user_01  gesture_05          198\n",
      "..      ...         ...          ...\n",
      "75  user_10  gesture_04          264\n",
      "76  user_10  gesture_05          208\n",
      "77  user_10  gesture_06           77\n",
      "78  user_10  gesture_07          176\n",
      "79  user_10  gesture_08          269\n",
      "\n",
      "[80 rows x 3 columns]\n"
     ]
    }
   ],
   "source": [
    "counts = df.groupby([\"user\", \"gesture\"]).size().reset_index(name=\"num_samples\")\n",
    "\n",
    "print(counts)"
   ]
  },
  {
   "cell_type": "code",
   "execution_count": 30,
   "id": "3636fc61",
   "metadata": {},
   "outputs": [
    {
     "name": "stdout",
     "output_type": "stream",
     "text": [
      "      gesture  num_samples\n",
      "0  gesture_01         2477\n",
      "1  gesture_02         2833\n",
      "2  gesture_03         2497\n",
      "3  gesture_04         2644\n",
      "4  gesture_05         2602\n",
      "5  gesture_06         2352\n",
      "6  gesture_07         2557\n",
      "7  gesture_08         2651\n"
     ]
    }
   ],
   "source": [
    "gestures_counts = df.groupby(\"gesture\").size().reset_index(name=\"num_samples\")\n",
    "print(gestures_counts)"
   ]
  },
  {
   "cell_type": "code",
   "execution_count": 31,
   "id": "9bbf2a3b",
   "metadata": {},
   "outputs": [
    {
     "name": "stdout",
     "output_type": "stream",
     "text": [
      "      user  num_samples\n",
      "0  user_01         1507\n",
      "1  user_02         2381\n",
      "2  user_03         2195\n",
      "3  user_04         3442\n",
      "4  user_05         1853\n",
      "5  user_06         1132\n",
      "6  user_07         2136\n",
      "7  user_08         2356\n",
      "8  user_09         1835\n",
      "9  user_10         1776\n"
     ]
    }
   ],
   "source": [
    "users_counts = df.groupby(\"user\").size().reset_index(name=\"num_samples\")\n",
    "print(users_counts)"
   ]
  },
  {
   "cell_type": "code",
   "execution_count": 32,
   "id": "63b3f97f",
   "metadata": {},
   "outputs": [
    {
     "name": "stdout",
     "output_type": "stream",
     "text": [
      "Fold 1:\n",
      "  Train users: ['user_02' 'user_03' 'user_05' 'user_06' 'user_07' 'user_08' 'user_09'\n",
      " 'user_10']\n",
      "  Test users: ['user_01' 'user_04']\n",
      "Fold 2:\n",
      "  Train users: ['user_01' 'user_03' 'user_04' 'user_05' 'user_06' 'user_08' 'user_09'\n",
      " 'user_10']\n",
      "  Test users: ['user_02' 'user_07']\n",
      "Fold 3:\n",
      "  Train users: ['user_01' 'user_02' 'user_04' 'user_05' 'user_07' 'user_08' 'user_09'\n",
      " 'user_10']\n",
      "  Test users: ['user_03' 'user_06']\n",
      "Fold 4:\n",
      "  Train users: ['user_01' 'user_02' 'user_03' 'user_04' 'user_06' 'user_07' 'user_08'\n",
      " 'user_10']\n",
      "  Test users: ['user_05' 'user_09']\n",
      "Fold 5:\n",
      "  Train users: ['user_01' 'user_02' 'user_03' 'user_04' 'user_05' 'user_06' 'user_07'\n",
      " 'user_09']\n",
      "  Test users: ['user_08' 'user_10']\n"
     ]
    }
   ],
   "source": [
    "for i, (train_idx, test_idx) in enumerate(gkf.split(X, y, groups=groups), start=1):\n",
    "    train_users = np.unique(groups[train_idx])\n",
    "    test_users = np.unique(groups[test_idx])\n",
    "    \n",
    "    print(f\"Fold {i}:\")\n",
    "    print(f\"  Train users: {train_users}\")\n",
    "    print(f\"  Test users: {test_users}\")"
   ]
  }
 ],
 "metadata": {
  "kernelspec": {
   "display_name": ".ia_venv",
   "language": "python",
   "name": "python3"
  },
  "language_info": {
   "codemirror_mode": {
    "name": "ipython",
    "version": 3
   },
   "file_extension": ".py",
   "mimetype": "text/x-python",
   "name": "python",
   "nbconvert_exporter": "python",
   "pygments_lexer": "ipython3",
   "version": "3.13.7"
  }
 },
 "nbformat": 4,
 "nbformat_minor": 5
}
