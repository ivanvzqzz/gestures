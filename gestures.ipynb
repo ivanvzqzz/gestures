{
 "cells": [
  {
   "cell_type": "code",
   "execution_count": 5,
   "id": "26d5fc54",
   "metadata": {},
   "outputs": [],
   "source": [
    "import pandas as pd\n",
    "import matplotlib.pyplot as plt\n",
    "from load_gestures import load_gestures"
   ]
  },
  {
   "cell_type": "code",
   "execution_count": 2,
   "id": "51b3b954",
   "metadata": {},
   "outputs": [],
   "source": [
    "df = load_gestures()"
   ]
  }
 ],
 "metadata": {
  "kernelspec": {
   "display_name": ".ia_venv",
   "language": "python",
   "name": "python3"
  },
  "language_info": {
   "codemirror_mode": {
    "name": "ipython",
    "version": 3
   },
   "file_extension": ".py",
   "mimetype": "text/x-python",
   "name": "python",
   "nbconvert_exporter": "python",
   "pygments_lexer": "ipython3",
   "version": "3.13.7"
  }
 },
 "nbformat": 4,
 "nbformat_minor": 5
}
